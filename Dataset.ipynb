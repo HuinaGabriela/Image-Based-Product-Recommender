{
  "nbformat": 4,
  "nbformat_minor": 0,
  "metadata": {
    "colab": {
      "provenance": [],
      "gpuType": "T4",
      "authorship_tag": "ABX9TyOfwe0PkUQp8pwoKK/jXs/C",
      "include_colab_link": true
    },
    "kernelspec": {
      "name": "python3",
      "display_name": "Python 3"
    },
    "language_info": {
      "name": "python"
    },
    "accelerator": "GPU"
  },
  "cells": [
    {
      "cell_type": "markdown",
      "metadata": {
        "id": "view-in-github",
        "colab_type": "text"
      },
      "source": [
        "<a href=\"https://colab.research.google.com/github/HuinaGabriela/Image-Based-Product-Recommender/blob/main/Dataset.ipynb\" target=\"_parent\"><img src=\"https://colab.research.google.com/assets/colab-badge.svg\" alt=\"Open In Colab\"/></a>"
      ]
    },
    {
      "cell_type": "code",
      "metadata": {
        "id": "2TUeNMUO9_7r"
      },
      "execution_count": null,
      "outputs": [],
      "source": [
        "#   Este arquivo: Filtra o DataFrame df para 4 categorias escolhidas\n",
        "#   Seleciona 200 imagens por categoria\n",
        "#   Copia as imagens para data/filtrado_200/<categoria>/\n",
        "#   cria o drive e salva o arquivo CSV"
      ]
    },
    {
      "cell_type": "code",
      "metadata": {
        "id": "9vwKQ53hClPH"
      },
      "execution_count": null,
      "outputs": [],
      "source": [
        "# Bibliotecas\n",
        "from google.colab import drive\n",
        "import os\n",
        "import shutil\n",
        "import pandas as pd\n",
        "from tqdm.notebook import tqdm\n"
      ]
    }
  ]
}
